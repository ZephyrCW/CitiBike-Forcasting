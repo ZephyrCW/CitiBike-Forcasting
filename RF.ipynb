{
  "cells": [
    {
      "cell_type": "code",
      "execution_count": 1,
      "metadata": {
        "id": "xDgB7TTpuXCY"
      },
      "outputs": [],
      "source": [
        "from sklearn.model_selection import train_test_split\n",
        "from sklearn.preprocessing import StandardScaler\n",
        "import numpy as np\n",
        "import matplotlib.pyplot as plt\n",
        "import pandas as pd\n",
        "import warnings\n",
        "warnings.filterwarnings('ignore')\n"
      ]
    },
    {
      "cell_type": "code",
      "execution_count": 2,
      "metadata": {
        "colab": {
          "base_uri": "https://localhost:8080/"
        },
        "id": "-uo19nQ-uYbk",
        "outputId": "b99e7108-fe56-4ec2-93f9-d704d8b23988"
      },
      "outputs": [
        {
          "name": "stdout",
          "output_type": "stream",
          "text": [
            "Drive already mounted at /content/drive; to attempt to forcibly remount, call drive.mount(\"/content/drive\", force_remount=True).\n"
          ]
        }
      ],
      "source": [
        "from google.colab import drive\n",
        "drive.mount('/content/drive')\n"
      ]
    },
    {
      "cell_type": "code",
      "execution_count": 3,
      "metadata": {
        "id": "OHWvtbf6uXCb"
      },
      "outputs": [],
      "source": [
        "df_ori = pd.read_csv(\n",
        "    '/content/drive/MyDrive/Colab Notebooks/project/data/gdf_final.csv').dropna()\n",
        "X_col = [\n",
        "    'dist',\n",
        "    'delta_time',\n",
        "    'trip_hour',\n",
        "    'avgtemp',\n",
        "    'population_16_with_earnings',\n",
        "    'median_earnings_(dollars)',\n",
        "    'median_age_(years)'\n",
        "]\n",
        "y_col = ['usage_counts']\n",
        "classes = ['low', 'mid', 'high']\n",
        "X = StandardScaler().fit_transform(df_ori[X_col])\n"
      ]
    },
    {
      "cell_type": "code",
      "execution_count": 4,
      "metadata": {
        "colab": {
          "base_uri": "https://localhost:8080/"
        },
        "id": "JKUSBc7QuXCc",
        "outputId": "308d58ec-4732-4b73-9ddd-b8013e77d05a"
      },
      "outputs": [
        {
          "data": {
            "text/plain": [
              "(0.9977067342429605, 0.6504293193717278)"
            ]
          },
          "execution_count": 4,
          "metadata": {},
          "output_type": "execute_result"
        }
      ],
      "source": [
        "from sklearn.ensemble import RandomForestClassifier\n",
        "y = pd.cut(df_ori[y_col].to_numpy().flatten(), [\n",
        "           0, 2, 8, 96], labels=classes).tolist()\n",
        "X_train, X_test, y_train, y_test = train_test_split(\n",
        "    X, y, test_size=0.2, random_state=42)\n",
        "clf = RandomForestClassifier(criterion='entropy',\n",
        "                             n_estimators=200, max_features='sqrt', random_state=0)\n",
        "clf.fit(X_train, y_train)\n",
        "clf.score(X_train, y_train), clf.score(X_test, y_test)\n"
      ]
    },
    {
      "cell_type": "code",
      "execution_count": 5,
      "metadata": {
        "colab": {
          "base_uri": "https://localhost:8080/"
        },
        "id": "s8l-n18cuXCd",
        "outputId": "c610481e-ffa7-4edb-cab4-1975640ca735"
      },
      "outputs": [
        {
          "data": {
            "text/plain": [
              "(0.953117932935162, 0.6750869599851288)"
            ]
          },
          "execution_count": 5,
          "metadata": {},
          "output_type": "execute_result"
        }
      ],
      "source": [
        "from sklearn.ensemble import RandomForestRegressor\n",
        "y = df_ori[y_col].to_numpy().flatten()\n",
        "X_train, X_test, y_train, y_test = train_test_split(\n",
        "    X, y, test_size=0.2, random_state=42)\n",
        "regr = RandomForestRegressor(criterion='squared_error',\n",
        "                             n_estimators=200, max_features='sqrt', random_state=0)\n",
        "regr.fit(X_train, y_train)\n",
        "regr.score(X_train, y_train), regr.score(X_test, y_test)\n"
      ]
    },
    {
      "cell_type": "markdown",
      "metadata": {
        "id": "ofyNUBE5uXCe"
      },
      "source": [
        "### use Regression Model"
      ]
    },
    {
      "cell_type": "markdown",
      "metadata": {
        "id": "iVy8QLWCuXCf"
      },
      "source": [
        "# Evaluate Impurity"
      ]
    },
    {
      "cell_type": "code",
      "execution_count": 6,
      "metadata": {
        "colab": {
          "base_uri": "https://localhost:8080/",
          "height": 307
        },
        "id": "mZhGf-QeuXCg",
        "outputId": "e6cbca9a-1682-4504-e311-c6ef91a2aad4"
      },
      "outputs": [
        {
          "data": {
            "text/plain": [
              "<matplotlib.legend.Legend at 0x7f581033c310>"
            ]
          },
          "execution_count": 6,
          "metadata": {},
          "output_type": "execute_result"
        },
        {
          "data": {
            "image/png": "[encoded data removed]",
            "text/plain": [
              "<Figure size 432x288 with 1 Axes>"
            ]
          },
          "metadata": {
            "needs_background": "light"
          },
          "output_type": "display_data"
        }
      ],
      "source": [
        "n = 20\n",
        "test_score_list = np.zeros(n)\n",
        "train_score_list = np.zeros(n)\n",
        "decrease_list = [round(i, 6) for i in np.linspace(0.0001, 0.002, n)]\n",
        "for idx, i in enumerate(decrease_list):\n",
        "    regr = RandomForestRegressor(min_impurity_decrease=i,\n",
        "                                 criterion='squared_error', n_estimators=100, random_state=0)\n",
        "    regr.fit(X_train, y_train)\n",
        "    train_score_list[idx] = regr.score(X_train, y_train)\n",
        "    test_score_list[idx] = regr.score(X_test, y_test)\n",
        "plt.plot(list(range(n)), train_score_list, label='train')\n",
        "plt.plot(list(range(n)), test_score_list, label='test')\n",
        "plt.xticks(list(range(n)), decrease_list, rotation=45)\n",
        "plt.legend()\n"
      ]
    },
    {
      "cell_type": "code",
      "execution_count": 7,
      "metadata": {
        "colab": {
          "base_uri": "https://localhost:8080/"
        },
        "id": "-643m-_6uXCi",
        "outputId": "f29dc47f-a18a-476e-a03d-3b42b300babd"
      },
      "outputs": [
        {
          "data": {
            "text/plain": [
              "(0.9251144993990332, 0.6777233594766948)"
            ]
          },
          "execution_count": 7,
          "metadata": {},
          "output_type": "execute_result"
        }
      ],
      "source": [
        "decrease = decrease_list[np.argmax(test_score_list)]\n",
        "regr = RandomForestRegressor(min_impurity_decrease=decrease,\n",
        "                             criterion='squared_error', n_estimators=100, random_state=0)\n",
        "regr.fit(X_train, y_train)\n",
        "regr.score(X_train, y_train), regr.score(X_test, y_test)\n"
      ]
    },
    {
      "cell_type": "markdown",
      "metadata": {
        "id": "S1IMvE85uXCi"
      },
      "source": [
        "# Evaluate Max Depth"
      ]
    },
    {
      "cell_type": "code",
      "execution_count": 8,
      "metadata": {
        "colab": {
          "base_uri": "https://localhost:8080/"
        },
        "id": "fEgCGPO9uXCj",
        "outputId": "4a43cd22-a65f-4fd8-98c1-eb1bbe1687e8"
      },
      "outputs": [
        {
          "data": {
            "text/plain": [
              "43"
            ]
          },
          "execution_count": 8,
          "metadata": {},
          "output_type": "execute_result"
        }
      ],
      "source": [
        "max([estimator.tree_.max_depth for estimator in regr.estimators_])\n"
      ]
    },
    {
      "cell_type": "code",
      "execution_count": 9,
      "metadata": {
        "colab": {
          "base_uri": "https://localhost:8080/",
          "height": 283
        },
        "id": "AkRGSkK4uXCk",
        "outputId": "e0d6de75-a102-41a0-b4f3-7765c9b1b442"
      },
      "outputs": [
        {
          "data": {
            "text/plain": [
              "<matplotlib.legend.Legend at 0x7f57eee43bd0>"
            ]
          },
          "execution_count": 9,
          "metadata": {},
          "output_type": "execute_result"
        },
        {
          "data": {
            "image/png": "[encoded data removed]",
            "text/plain": [
              "<Figure size 432x288 with 1 Axes>"
            ]
          },
          "metadata": {
            "needs_background": "light"
          },
          "output_type": "display_data"
        }
      ],
      "source": [
        "n = 10\n",
        "train_score_list = np.zeros(n)\n",
        "test_score_list = np.zeros(n)\n",
        "depth_list = np.linspace(15, 33, n)\n",
        "for idx, i in enumerate(depth_list):\n",
        "    regr = RandomForestRegressor(min_impurity_decrease=decrease, max_depth=i,\n",
        "                                 criterion='squared_error', n_estimators=100, random_state=0)\n",
        "    regr.fit(X_train, y_train)\n",
        "    train_score_list[idx] = regr.score(X_train, y_train)\n",
        "    test_score_list[idx] = regr.score(X_test, y_test)\n",
        "plt.plot(list(range(n)), train_score_list, label='train')\n",
        "plt.plot(list(range(n)), test_score_list, label='test')\n",
        "plt.xticks(list(range(n)), depth_list)\n",
        "plt.legend()\n"
      ]
    },
    {
      "cell_type": "code",
      "execution_count": 10,
      "metadata": {
        "colab": {
          "base_uri": "https://localhost:8080/"
        },
        "id": "_luXzm80uXCk",
        "outputId": "1bd0dd6d-bda4-46e9-e146-e04c4c2d3785"
      },
      "outputs": [
        {
          "data": {
            "text/plain": [
              "(0.8586102293466276, 0.6718410603378245)"
            ]
          },
          "execution_count": 10,
          "metadata": {},
          "output_type": "execute_result"
        }
      ],
      "source": [
        "depth = 23\n",
        "regr = RandomForestRegressor(min_impurity_decrease=decrease, max_depth=depth,\n",
        "                             criterion='squared_error', n_estimators=100, max_features='sqrt', random_state=0)\n",
        "regr.fit(X_train, y_train)\n",
        "regr.score(X_train, y_train), regr.score(X_test, y_test)\n"
      ]
    },
    {
      "cell_type": "markdown",
      "metadata": {
        "id": "R0-nDr_DuXCl"
      },
      "source": [
        "### Hard to Increase the score through fine tune one parameter"
      ]
    },
    {
      "cell_type": "markdown",
      "metadata": {
        "id": "rtclrsXZuXCl"
      },
      "source": [
        "# GridSearch"
      ]
    },
    {
      "cell_type": "code",
      "execution_count": 15,
      "metadata": {
        "colab": {
          "base_uri": "https://localhost:8080/"
        },
        "id": "HSh1Y9PAuXCm",
        "outputId": "24aec707-8baf-4473-a020-4b422308d091"
      },
      "outputs": [
        {
          "name": "stdout",
          "output_type": "stream",
          "text": [
            "Fitting 5 folds for each of 90 candidates, totalling 450 fits\n",
            "[CV] END max_depth=24, max_features=auto, min_impurity_decrease=1e-07, min_samples_split=2; total time=  27.3s\n",
            "[CV] END max_depth=24, max_features=auto, min_impurity_decrease=1e-07, min_samples_split=2; total time=  27.5s\n",
            "[CV] END max_depth=24, max_features=auto, min_impurity_decrease=1e-07, min_samples_split=2; total time=  27.8s\n",
            "[CV] END max_depth=24, max_features=auto, min_impurity_decrease=1e-07, min_samples_split=2; total time=  27.4s\n",
            "[CV] END max_depth=24, max_features=auto, min_impurity_decrease=1e-07, min_samples_split=2; total time=  27.8s\n",
            "[CV] END max_depth=24, max_features=auto, min_impurity_decrease=1e-07, min_samples_split=20; total time=  22.3s\n",
            "[CV] END max_depth=24, max_features=auto, min_impurity_decrease=1e-07, min_samples_split=20; total time=  22.0s\n",
            "[CV] END max_depth=24, max_features=auto, min_impurity_decrease=1e-07, min_samples_split=20; total time=  22.0s\n",
            "[CV] END max_depth=24, max_features=auto, min_impurity_decrease=1e-07, min_samples_split=20; total time=  21.9s\n",
            "[CV] END max_depth=24, max_features=auto, min_impurity_decrease=1e-07, min_samples_split=20; total time=  22.0s\n",
            "[CV] END max_depth=24, max_features=auto, min_impurity_decrease=1e-07, min_samples_split=40; total time=  20.4s\n",
            "[CV] END max_depth=24, max_features=auto, min_impurity_decrease=1e-07, min_samples_split=40; total time=  20.2s\n",
            "[CV] END max_depth=24, max_features=auto, min_impurity_decrease=1e-07, min_samples_split=40; total time=  20.4s\n",
            "[CV] END max_depth=24, max_features=auto, min_impurity_decrease=1e-07, min_samples_split=40; total time=  20.1s\n",
            "[CV] END max_depth=24, max_features=auto, min_impurity_decrease=1e-07, min_samples_split=40; total time=  20.1s\n",
            "[CV] END max_depth=24, max_features=auto, min_impurity_decrease=1e-06, min_samples_split=2; total time=  27.4s\n",
            "[CV] END max_depth=24, max_features=auto, min_impurity_decrease=1e-06, min_samples_split=2; total time=  27.2s\n",
            "[CV] END max_depth=24, max_features=auto, min_impurity_decrease=1e-06, min_samples_split=2; total time=  27.2s\n",
            "[CV] END max_depth=24, max_features=auto, min_impurity_decrease=1e-06, min_samples_split=2; total time=  27.2s\n",
            "[CV] END max_depth=24, max_features=auto, min_impurity_decrease=1e-06, min_samples_split=2; total time=  27.3s\n",
            "[CV] END max_depth=24, max_features=auto, min_impurity_decrease=1e-06, min_samples_split=20; total time=  21.7s\n",
            "[CV] END max_depth=24, max_features=auto, min_impurity_decrease=1e-06, min_samples_split=20; total time=  21.7s\n",
            "[CV] END max_depth=24, max_features=auto, min_impurity_decrease=1e-06, min_samples_split=20; total time=  21.7s\n",
            "[CV] END max_depth=24, max_features=auto, min_impurity_decrease=1e-06, min_samples_split=20; total time=  21.9s\n",
            "[CV] END max_depth=24, max_features=auto, min_impurity_decrease=1e-06, min_samples_split=20; total time=  21.9s\n",
            "[CV] END max_depth=24, max_features=auto, min_impurity_decrease=1e-06, min_samples_split=40; total time=  20.5s\n",
            "[CV] END max_depth=24, max_features=auto, min_impurity_decrease=1e-06, min_samples_split=40; total time=  20.5s\n",
            "[CV] END max_depth=24, max_features=auto, min_impurity_decrease=1e-06, min_samples_split=40; total time=  20.4s\n",
            "[CV] END max_depth=24, max_features=auto, min_impurity_decrease=1e-06, min_samples_split=40; total time=  20.0s\n",
            "[CV] END max_depth=24, max_features=auto, min_impurity_decrease=1e-06, min_samples_split=40; total time=  20.0s\n",
            "[CV] END max_depth=24, max_features=auto, min_impurity_decrease=1e-05, min_samples_split=2; total time=  27.0s\n",
            "[CV] END max_depth=24, max_features=auto, min_impurity_decrease=1e-05, min_samples_split=2; total time=  26.9s\n",
            "[CV] END max_depth=24, max_features=auto, min_impurity_decrease=1e-05, min_samples_split=2; total time=  26.8s\n",
            "[CV] END max_depth=24, max_features=auto, min_impurity_decrease=1e-05, min_samples_split=2; total time=  26.9s\n",
            "[CV] END max_depth=24, max_features=auto, min_impurity_decrease=1e-05, min_samples_split=2; total time=  27.0s\n",
            "[CV] END max_depth=24, max_features=auto, min_impurity_decrease=1e-05, min_samples_split=20; total time=  21.7s\n",
            "[CV] END max_depth=24, max_features=auto, min_impurity_decrease=1e-05, min_samples_split=20; total time=  21.9s\n",
            "[CV] END max_depth=24, max_features=auto, min_impurity_decrease=1e-05, min_samples_split=20; total time=  21.8s\n",
            "[CV] END max_depth=24, max_features=auto, min_impurity_decrease=1e-05, min_samples_split=20; total time=  21.9s\n",
            "[CV] END max_depth=24, max_features=auto, min_impurity_decrease=1e-05, min_samples_split=20; total time=  21.9s\n",
            "[CV] END max_depth=24, max_features=auto, min_impurity_decrease=1e-05, min_samples_split=40; total time=  20.4s\n",
            "[CV] END max_depth=24, max_features=auto, min_impurity_decrease=1e-05, min_samples_split=40; total time=  20.4s\n",
            "[CV] END max_depth=24, max_features=auto, min_impurity_decrease=1e-05, min_samples_split=40; total time=  20.5s\n",
            "[CV] END max_depth=24, max_features=auto, min_impurity_decrease=1e-05, min_samples_split=40; total time=  20.4s\n",
            "[CV] END max_depth=24, max_features=auto, min_impurity_decrease=1e-05, min_samples_split=40; total time=  20.5s\n",
            "[CV] END max_depth=24, max_features=sqrt, min_impurity_decrease=1e-07, min_samples_split=2; total time=  11.7s\n",
            "[CV] END max_depth=24, max_features=sqrt, min_impurity_decrease=1e-07, min_samples_split=2; total time=  11.8s\n",
            "[CV] END max_depth=24, max_features=sqrt, min_impurity_decrease=1e-07, min_samples_split=2; total time=  11.8s\n",
            "[CV] END max_depth=24, max_features=sqrt, min_impurity_decrease=1e-07, min_samples_split=2; total time=  11.8s\n",
            "[CV] END max_depth=24, max_features=sqrt, min_impurity_decrease=1e-07, min_samples_split=2; total time=  11.9s\n",
            "[CV] END max_depth=24, max_features=sqrt, min_impurity_decrease=1e-07, min_samples_split=20; total time=   8.2s\n",
            "[CV] END max_depth=24, max_features=sqrt, min_impurity_decrease=1e-07, min_samples_split=20; total time=   8.2s\n",
            "[CV] END max_depth=24, max_features=sqrt, min_impurity_decrease=1e-07, min_samples_split=20; total time=   8.2s\n",
            "[CV] END max_depth=24, max_features=sqrt, min_impurity_decrease=1e-07, min_samples_split=20; total time=   8.4s\n",
            "[CV] END max_depth=24, max_features=sqrt, min_impurity_decrease=1e-07, min_samples_split=20; total time=   8.0s\n",
            "[CV] END max_depth=24, max_features=sqrt, min_impurity_decrease=1e-07, min_samples_split=40; total time=   7.5s\n",
            "[CV] END max_depth=24, max_features=sqrt, min_impurity_decrease=1e-07, min_samples_split=40; total time=   7.6s\n",
            "[CV] END max_depth=24, max_features=sqrt, min_impurity_decrease=1e-07, min_samples_split=40; total time=   7.4s\n",
            "[CV] END max_depth=24, max_features=sqrt, min_impurity_decrease=1e-07, min_samples_split=40; total time=   7.6s\n",
            "[CV] END max_depth=24, max_features=sqrt, min_impurity_decrease=1e-07, min_samples_split=40; total time=   7.6s\n",
            "[CV] END max_depth=24, max_features=sqrt, min_impurity_decrease=1e-06, min_samples_split=2; total time=  11.7s\n",
            "[CV] END max_depth=24, max_features=sqrt, min_impurity_decrease=1e-06, min_samples_split=2; total time=  11.7s\n",
            "[CV] END max_depth=24, max_features=sqrt, min_impurity_decrease=1e-06, min_samples_split=2; total time=  11.5s\n",
            "[CV] END max_depth=24, max_features=sqrt, min_impurity_decrease=1e-06, min_samples_split=2; total time=  11.6s\n",
            "[CV] END max_depth=24, max_features=sqrt, min_impurity_decrease=1e-06, min_samples_split=2; total time=  11.7s\n",
            "[CV] END max_depth=24, max_features=sqrt, min_impurity_decrease=1e-06, min_samples_split=20; total time=   8.1s\n",
            "[CV] END max_depth=24, max_features=sqrt, min_impurity_decrease=1e-06, min_samples_split=20; total time=   8.3s\n",
            "[CV] END max_depth=24, max_features=sqrt, min_impurity_decrease=1e-06, min_samples_split=20; total time=   8.0s\n",
            "[CV] END max_depth=24, max_features=sqrt, min_impurity_decrease=1e-06, min_samples_split=20; total time=   7.9s\n",
            "[CV] END max_depth=24, max_features=sqrt, min_impurity_decrease=1e-06, min_samples_split=20; total time=   8.1s\n",
            "[CV] END max_depth=24, max_features=sqrt, min_impurity_decrease=1e-06, min_samples_split=40; total time=   7.3s\n",
            "[CV] END max_depth=24, max_features=sqrt, min_impurity_decrease=1e-06, min_samples_split=40; total time=   7.4s\n",
            "[CV] END max_depth=24, max_features=sqrt, min_impurity_decrease=1e-06, min_samples_split=40; total time=   7.5s\n",
            "[CV] END max_depth=24, max_features=sqrt, min_impurity_decrease=1e-06, min_samples_split=40; total time=   7.4s\n",
            "[CV] END max_depth=24, max_features=sqrt, min_impurity_decrease=1e-06, min_samples_split=40; total time=   7.5s\n",
            "[CV] END max_depth=24, max_features=sqrt, min_impurity_decrease=1e-05, min_samples_split=2; total time=  10.6s\n",
            "[CV] END max_depth=24, max_features=sqrt, min_impurity_decrease=1e-05, min_samples_split=2; total time=  10.7s\n",
            "[CV] END max_depth=24, max_features=sqrt, min_impurity_decrease=1e-05, min_samples_split=2; total time=  10.7s\n",
            "[CV] END max_depth=24, max_features=sqrt, min_impurity_decrease=1e-05, min_samples_split=2; total time=  10.6s\n",
            "[CV] END max_depth=24, max_features=sqrt, min_impurity_decrease=1e-05, min_samples_split=2; total time=  10.7s\n",
            "[CV] END max_depth=24, max_features=sqrt, min_impurity_decrease=1e-05, min_samples_split=20; total time=   8.0s\n",
            "[CV] END max_depth=24, max_features=sqrt, min_impurity_decrease=1e-05, min_samples_split=20; total time=   8.0s\n",
            "[CV] END max_depth=24, max_features=sqrt, min_impurity_decrease=1e-05, min_samples_split=20; total time=   8.0s\n",
            "[CV] END max_depth=24, max_features=sqrt, min_impurity_decrease=1e-05, min_samples_split=20; total time=   8.1s\n",
            "[CV] END max_depth=24, max_features=sqrt, min_impurity_decrease=1e-05, min_samples_split=20; total time=   8.1s\n",
            "[CV] END max_depth=24, max_features=sqrt, min_impurity_decrease=1e-05, min_samples_split=40; total time=   7.4s\n",
            "[CV] END max_depth=24, max_features=sqrt, min_impurity_decrease=1e-05, min_samples_split=40; total time=   7.4s\n",
            "[CV] END max_depth=24, max_features=sqrt, min_impurity_decrease=1e-05, min_samples_split=40; total time=   7.4s\n",
            "[CV] END max_depth=24, max_features=sqrt, min_impurity_decrease=1e-05, min_samples_split=40; total time=   7.3s\n",
            "[CV] END max_depth=24, max_features=sqrt, min_impurity_decrease=1e-05, min_samples_split=40; total time=   7.3s\n",
            "[CV] END max_depth=28, max_features=auto, min_impurity_decrease=1e-07, min_samples_split=2; total time=  28.2s\n",
            "[CV] END max_depth=28, max_features=auto, min_impurity_decrease=1e-07, min_samples_split=2; total time=  28.1s\n",
            "[CV] END max_depth=28, max_features=auto, min_impurity_decrease=1e-07, min_samples_split=2; total time=  28.3s\n",
            "[CV] END max_depth=28, max_features=auto, min_impurity_decrease=1e-07, min_samples_split=2; total time=  28.2s\n",
            "[CV] END max_depth=28, max_features=auto, min_impurity_decrease=1e-07, min_samples_split=2; total time=  28.2s\n",
            "[CV] END max_depth=28, max_features=auto, min_impurity_decrease=1e-07, min_samples_split=20; total time=  21.7s\n",
            "[CV] END max_depth=28, max_features=auto, min_impurity_decrease=1e-07, min_samples_split=20; total time=  21.6s\n",
            "[CV] END max_depth=28, max_features=auto, min_impurity_decrease=1e-07, min_samples_split=20; total time=  21.8s\n",
            "[CV] END max_depth=28, max_features=auto, min_impurity_decrease=1e-07, min_samples_split=20; total time=  21.7s\n",
            "[CV] END max_depth=28, max_features=auto, min_impurity_decrease=1e-07, min_samples_split=20; total time=  21.8s\n",
            "[CV] END max_depth=28, max_features=auto, min_impurity_decrease=1e-07, min_samples_split=40; total time=  20.0s\n",
            "[CV] END max_depth=28, max_features=auto, min_impurity_decrease=1e-07, min_samples_split=40; total time=  20.0s\n",
            "[CV] END max_depth=28, max_features=auto, min_impurity_decrease=1e-07, min_samples_split=40; total time=  20.3s\n",
            "[CV] END max_depth=28, max_features=auto, min_impurity_decrease=1e-07, min_samples_split=40; total time=  20.3s\n",
            "[CV] END max_depth=28, max_features=auto, min_impurity_decrease=1e-07, min_samples_split=40; total time=  20.3s\n",
            "[CV] END max_depth=28, max_features=auto, min_impurity_decrease=1e-06, min_samples_split=2; total time=  28.8s\n",
            "[CV] END max_depth=28, max_features=auto, min_impurity_decrease=1e-06, min_samples_split=2; total time=  28.6s\n",
            "[CV] END max_depth=28, max_features=auto, min_impurity_decrease=1e-06, min_samples_split=2; total time=  28.7s\n",
            "[CV] END max_depth=28, max_features=auto, min_impurity_decrease=1e-06, min_samples_split=2; total time=  28.8s\n",
            "[CV] END max_depth=28, max_features=auto, min_impurity_decrease=1e-06, min_samples_split=2; total time=  28.4s\n",
            "[CV] END max_depth=28, max_features=auto, min_impurity_decrease=1e-06, min_samples_split=20; total time=  21.9s\n",
            "[CV] END max_depth=28, max_features=auto, min_impurity_decrease=1e-06, min_samples_split=20; total time=  22.2s\n",
            "[CV] END max_depth=28, max_features=auto, min_impurity_decrease=1e-06, min_samples_split=20; total time=  22.4s\n",
            "[CV] END max_depth=28, max_features=auto, min_impurity_decrease=1e-06, min_samples_split=20; total time=  21.9s\n",
            "[CV] END max_depth=28, max_features=auto, min_impurity_decrease=1e-06, min_samples_split=20; total time=  22.4s\n",
            "[CV] END max_depth=28, max_features=auto, min_impurity_decrease=1e-06, min_samples_split=40; total time=  20.8s\n",
            "[CV] END max_depth=28, max_features=auto, min_impurity_decrease=1e-06, min_samples_split=40; total time=  19.9s\n",
            "[CV] END max_depth=28, max_features=auto, min_impurity_decrease=1e-06, min_samples_split=40; total time=  20.0s\n",
            "[CV] END max_depth=28, max_features=auto, min_impurity_decrease=1e-06, min_samples_split=40; total time=  20.0s\n",
            "[CV] END max_depth=28, max_features=auto, min_impurity_decrease=1e-06, min_samples_split=40; total time=  20.1s\n",
            "[CV] END max_depth=28, max_features=auto, min_impurity_decrease=1e-05, min_samples_split=2; total time=  27.5s\n",
            "[CV] END max_depth=28, max_features=auto, min_impurity_decrease=1e-05, min_samples_split=2; total time=  27.6s\n",
            "[CV] END max_depth=28, max_features=auto, min_impurity_decrease=1e-05, min_samples_split=2; total time=  27.3s\n",
            "[CV] END max_depth=28, max_features=auto, min_impurity_decrease=1e-05, min_samples_split=2; total time=  27.2s\n",
            "[CV] END max_depth=28, max_features=auto, min_impurity_decrease=1e-05, min_samples_split=2; total time=  27.3s\n",
            "[CV] END max_depth=28, max_features=auto, min_impurity_decrease=1e-05, min_samples_split=20; total time=  21.6s\n",
            "[CV] END max_depth=28, max_features=auto, min_impurity_decrease=1e-05, min_samples_split=20; total time=  21.5s\n",
            "[CV] END max_depth=28, max_features=auto, min_impurity_decrease=1e-05, min_samples_split=20; total time=  21.6s\n",
            "[CV] END max_depth=28, max_features=auto, min_impurity_decrease=1e-05, min_samples_split=20; total time=  21.6s\n",
            "[CV] END max_depth=28, max_features=auto, min_impurity_decrease=1e-05, min_samples_split=20; total time=  21.6s\n",
            "[CV] END max_depth=28, max_features=auto, min_impurity_decrease=1e-05, min_samples_split=40; total time=  20.0s\n",
            "[CV] END max_depth=28, max_features=auto, min_impurity_decrease=1e-05, min_samples_split=40; total time=  19.9s\n",
            "[CV] END max_depth=28, max_features=auto, min_impurity_decrease=1e-05, min_samples_split=40; total time=  19.9s\n",
            "[CV] END max_depth=28, max_features=auto, min_impurity_decrease=1e-05, min_samples_split=40; total time=  20.1s\n",
            "[CV] END max_depth=28, max_features=auto, min_impurity_decrease=1e-05, min_samples_split=40; total time=  20.2s\n",
            "[CV] END max_depth=28, max_features=sqrt, min_impurity_decrease=1e-07, min_samples_split=2; total time=  11.8s\n",
            "[CV] END max_depth=28, max_features=sqrt, min_impurity_decrease=1e-07, min_samples_split=2; total time=  11.7s\n",
            "[CV] END max_depth=28, max_features=sqrt, min_impurity_decrease=1e-07, min_samples_split=2; total time=  11.6s\n",
            "[CV] END max_depth=28, max_features=sqrt, min_impurity_decrease=1e-07, min_samples_split=2; total time=  11.7s\n",
            "[CV] END max_depth=28, max_features=sqrt, min_impurity_decrease=1e-07, min_samples_split=2; total time=  11.8s\n",
            "[CV] END max_depth=28, max_features=sqrt, min_impurity_decrease=1e-07, min_samples_split=20; total time=   7.9s\n",
            "[CV] END max_depth=28, max_features=sqrt, min_impurity_decrease=1e-07, min_samples_split=20; total time=   8.0s\n",
            "[CV] END max_depth=28, max_features=sqrt, min_impurity_decrease=1e-07, min_samples_split=20; total time=   8.0s\n",
            "[CV] END max_depth=28, max_features=sqrt, min_impurity_decrease=1e-07, min_samples_split=20; total time=   8.0s\n",
            "[CV] END max_depth=28, max_features=sqrt, min_impurity_decrease=1e-07, min_samples_split=20; total time=   8.0s\n",
            "[CV] END max_depth=28, max_features=sqrt, min_impurity_decrease=1e-07, min_samples_split=40; total time=   7.2s\n",
            "[CV] END max_depth=28, max_features=sqrt, min_impurity_decrease=1e-07, min_samples_split=40; total time=   7.4s\n",
            "[CV] END max_depth=28, max_features=sqrt, min_impurity_decrease=1e-07, min_samples_split=40; total time=   7.3s\n",
            "[CV] END max_depth=28, max_features=sqrt, min_impurity_decrease=1e-07, min_samples_split=40; total time=   7.3s\n",
            "[CV] END max_depth=28, max_features=sqrt, min_impurity_decrease=1e-07, min_samples_split=40; total time=   7.3s\n",
            "[CV] END max_depth=28, max_features=sqrt, min_impurity_decrease=1e-06, min_samples_split=2; total time=  11.6s\n",
            "[CV] END max_depth=28, max_features=sqrt, min_impurity_decrease=1e-06, min_samples_split=2; total time=  11.6s\n",
            "[CV] END max_depth=28, max_features=sqrt, min_impurity_decrease=1e-06, min_samples_split=2; total time=  11.6s\n",
            "[CV] END max_depth=28, max_features=sqrt, min_impurity_decrease=1e-06, min_samples_split=2; total time=  11.6s\n",
            "[CV] END max_depth=28, max_features=sqrt, min_impurity_decrease=1e-06, min_samples_split=2; total time=  11.9s\n",
            "[CV] END max_depth=28, max_features=sqrt, min_impurity_decrease=1e-06, min_samples_split=20; total time=   8.1s\n",
            "[CV] END max_depth=28, max_features=sqrt, min_impurity_decrease=1e-06, min_samples_split=20; total time=   8.1s\n",
            "[CV] END max_depth=28, max_features=sqrt, min_impurity_decrease=1e-06, min_samples_split=20; total time=   8.2s\n",
            "[CV] END max_depth=28, max_features=sqrt, min_impurity_decrease=1e-06, min_samples_split=20; total time=   8.1s\n",
            "[CV] END max_depth=28, max_features=sqrt, min_impurity_decrease=1e-06, min_samples_split=20; total time=   8.2s\n",
            "[CV] END max_depth=28, max_features=sqrt, min_impurity_decrease=1e-06, min_samples_split=40; total time=   7.5s\n",
            "[CV] END max_depth=28, max_features=sqrt, min_impurity_decrease=1e-06, min_samples_split=40; total time=   7.5s\n",
            "[CV] END max_depth=28, max_features=sqrt, min_impurity_decrease=1e-06, min_samples_split=40; total time=   7.5s\n",
            "[CV] END max_depth=28, max_features=sqrt, min_impurity_decrease=1e-06, min_samples_split=40; total time=   7.5s\n",
            "[CV] END max_depth=28, max_features=sqrt, min_impurity_decrease=1e-06, min_samples_split=40; total time=   7.7s\n",
            "[CV] END max_depth=28, max_features=sqrt, min_impurity_decrease=1e-05, min_samples_split=2; total time=  11.1s\n",
            "[CV] END max_depth=28, max_features=sqrt, min_impurity_decrease=1e-05, min_samples_split=2; total time=  11.0s\n",
            "[CV] END max_depth=28, max_features=sqrt, min_impurity_decrease=1e-05, min_samples_split=2; total time=  11.0s\n",
            "[CV] END max_depth=28, max_features=sqrt, min_impurity_decrease=1e-05, min_samples_split=2; total time=  10.9s\n",
            "[CV] END max_depth=28, max_features=sqrt, min_impurity_decrease=1e-05, min_samples_split=2; total time=  10.8s\n",
            "[CV] END max_depth=28, max_features=sqrt, min_impurity_decrease=1e-05, min_samples_split=20; total time=   8.0s\n",
            "[CV] END max_depth=28, max_features=sqrt, min_impurity_decrease=1e-05, min_samples_split=20; total time=   8.0s\n",
            "[CV] END max_depth=28, max_features=sqrt, min_impurity_decrease=1e-05, min_samples_split=20; total time=   8.0s\n",
            "[CV] END max_depth=28, max_features=sqrt, min_impurity_decrease=1e-05, min_samples_split=20; total time=   7.9s\n",
            "[CV] END max_depth=28, max_features=sqrt, min_impurity_decrease=1e-05, min_samples_split=20; total time=   8.1s\n",
            "[CV] END max_depth=28, max_features=sqrt, min_impurity_decrease=1e-05, min_samples_split=40; total time=   7.5s\n",
            "[CV] END max_depth=28, max_features=sqrt, min_impurity_decrease=1e-05, min_samples_split=40; total time=   7.5s\n",
            "[CV] END max_depth=28, max_features=sqrt, min_impurity_decrease=1e-05, min_samples_split=40; total time=   7.5s\n",
            "[CV] END max_depth=28, max_features=sqrt, min_impurity_decrease=1e-05, min_samples_split=40; total time=   7.7s\n",
            "[CV] END max_depth=28, max_features=sqrt, min_impurity_decrease=1e-05, min_samples_split=40; total time=   7.9s\n",
            "[CV] END max_depth=32, max_features=auto, min_impurity_decrease=1e-07, min_samples_split=2; total time=  29.4s\n",
            "[CV] END max_depth=32, max_features=auto, min_impurity_decrease=1e-07, min_samples_split=2; total time=  29.1s\n",
            "[CV] END max_depth=32, max_features=auto, min_impurity_decrease=1e-07, min_samples_split=2; total time=  28.5s\n",
            "[CV] END max_depth=32, max_features=auto, min_impurity_decrease=1e-07, min_samples_split=2; total time=  28.4s\n",
            "[CV] END max_depth=32, max_features=auto, min_impurity_decrease=1e-07, min_samples_split=2; total time=  28.4s\n",
            "[CV] END max_depth=32, max_features=auto, min_impurity_decrease=1e-07, min_samples_split=20; total time=  21.9s\n",
            "[CV] END max_depth=32, max_features=auto, min_impurity_decrease=1e-07, min_samples_split=20; total time=  21.7s\n",
            "[CV] END max_depth=32, max_features=auto, min_impurity_decrease=1e-07, min_samples_split=20; total time=  21.9s\n",
            "[CV] END max_depth=32, max_features=auto, min_impurity_decrease=1e-07, min_samples_split=20; total time=  21.9s\n",
            "[CV] END max_depth=32, max_features=auto, min_impurity_decrease=1e-07, min_samples_split=20; total time=  21.8s\n",
            "[CV] END max_depth=32, max_features=auto, min_impurity_decrease=1e-07, min_samples_split=40; total time=  20.1s\n",
            "[CV] END max_depth=32, max_features=auto, min_impurity_decrease=1e-07, min_samples_split=40; total time=  20.0s\n",
            "[CV] END max_depth=32, max_features=auto, min_impurity_decrease=1e-07, min_samples_split=40; total time=  20.0s\n",
            "[CV] END max_depth=32, max_features=auto, min_impurity_decrease=1e-07, min_samples_split=40; total time=  20.1s\n",
            "[CV] END max_depth=32, max_features=auto, min_impurity_decrease=1e-07, min_samples_split=40; total time=  20.0s\n",
            "[CV] END max_depth=32, max_features=auto, min_impurity_decrease=1e-06, min_samples_split=2; total time=  28.0s\n",
            "[CV] END max_depth=32, max_features=auto, min_impurity_decrease=1e-06, min_samples_split=2; total time=  27.9s\n",
            "[CV] END max_depth=32, max_features=auto, min_impurity_decrease=1e-06, min_samples_split=2; total time=  28.0s\n",
            "[CV] END max_depth=32, max_features=auto, min_impurity_decrease=1e-06, min_samples_split=2; total time=  28.1s\n",
            "[CV] END max_depth=32, max_features=auto, min_impurity_decrease=1e-06, min_samples_split=2; total time=  28.2s\n",
            "[CV] END max_depth=32, max_features=auto, min_impurity_decrease=1e-06, min_samples_split=20; total time=  21.5s\n",
            "[CV] END max_depth=32, max_features=auto, min_impurity_decrease=1e-06, min_samples_split=20; total time=  21.7s\n",
            "[CV] END max_depth=32, max_features=auto, min_impurity_decrease=1e-06, min_samples_split=20; total time=  21.6s\n",
            "[CV] END max_depth=32, max_features=auto, min_impurity_decrease=1e-06, min_samples_split=20; total time=  21.6s\n",
            "[CV] END max_depth=32, max_features=auto, min_impurity_decrease=1e-06, min_samples_split=20; total time=  21.8s\n",
            "[CV] END max_depth=32, max_features=auto, min_impurity_decrease=1e-06, min_samples_split=40; total time=  20.0s\n",
            "[CV] END max_depth=32, max_features=auto, min_impurity_decrease=1e-06, min_samples_split=40; total time=  20.0s\n",
            "[CV] END max_depth=32, max_features=auto, min_impurity_decrease=1e-06, min_samples_split=40; total time=  20.2s\n",
            "[CV] END max_depth=32, max_features=auto, min_impurity_decrease=1e-06, min_samples_split=40; total time=  20.4s\n",
            "[CV] END max_depth=32, max_features=auto, min_impurity_decrease=1e-06, min_samples_split=40; total time=  20.5s\n",
            "[CV] END max_depth=32, max_features=auto, min_impurity_decrease=1e-05, min_samples_split=2; total time=  27.8s\n",
            "[CV] END max_depth=32, max_features=auto, min_impurity_decrease=1e-05, min_samples_split=2; total time=  27.9s\n",
            "[CV] END max_depth=32, max_features=auto, min_impurity_decrease=1e-05, min_samples_split=2; total time=  28.4s\n",
            "[CV] END max_depth=32, max_features=auto, min_impurity_decrease=1e-05, min_samples_split=2; total time=  28.0s\n",
            "[CV] END max_depth=32, max_features=auto, min_impurity_decrease=1e-05, min_samples_split=2; total time=  28.3s\n",
            "[CV] END max_depth=32, max_features=auto, min_impurity_decrease=1e-05, min_samples_split=20; total time=  22.1s\n",
            "[CV] END max_depth=32, max_features=auto, min_impurity_decrease=1e-05, min_samples_split=20; total time=  22.2s\n",
            "[CV] END max_depth=32, max_features=auto, min_impurity_decrease=1e-05, min_samples_split=20; total time=  22.4s\n",
            "[CV] END max_depth=32, max_features=auto, min_impurity_decrease=1e-05, min_samples_split=20; total time=  22.2s\n",
            "[CV] END max_depth=32, max_features=auto, min_impurity_decrease=1e-05, min_samples_split=20; total time=  21.8s\n",
            "[CV] END max_depth=32, max_features=auto, min_impurity_decrease=1e-05, min_samples_split=40; total time=  20.1s\n",
            "[CV] END max_depth=32, max_features=auto, min_impurity_decrease=1e-05, min_samples_split=40; total time=  20.1s\n",
            "[CV] END max_depth=32, max_features=auto, min_impurity_decrease=1e-05, min_samples_split=40; total time=  20.1s\n",
            "[CV] END max_depth=32, max_features=auto, min_impurity_decrease=1e-05, min_samples_split=40; total time=  20.1s\n",
            "[CV] END max_depth=32, max_features=auto, min_impurity_decrease=1e-05, min_samples_split=40; total time=  20.1s\n",
            "[CV] END max_depth=32, max_features=sqrt, min_impurity_decrease=1e-07, min_samples_split=2; total time=  11.9s\n",
            "[CV] END max_depth=32, max_features=sqrt, min_impurity_decrease=1e-07, min_samples_split=2; total time=  11.9s\n",
            "[CV] END max_depth=32, max_features=sqrt, min_impurity_decrease=1e-07, min_samples_split=2; total time=  11.8s\n",
            "[CV] END max_depth=32, max_features=sqrt, min_impurity_decrease=1e-07, min_samples_split=2; total time=  11.9s\n",
            "[CV] END max_depth=32, max_features=sqrt, min_impurity_decrease=1e-07, min_samples_split=2; total time=  11.9s\n",
            "[CV] END max_depth=32, max_features=sqrt, min_impurity_decrease=1e-07, min_samples_split=20; total time=   8.0s\n",
            "[CV] END max_depth=32, max_features=sqrt, min_impurity_decrease=1e-07, min_samples_split=20; total time=   8.0s\n",
            "[CV] END max_depth=32, max_features=sqrt, min_impurity_decrease=1e-07, min_samples_split=20; total time=   8.1s\n",
            "[CV] END max_depth=32, max_features=sqrt, min_impurity_decrease=1e-07, min_samples_split=20; total time=   8.0s\n",
            "[CV] END max_depth=32, max_features=sqrt, min_impurity_decrease=1e-07, min_samples_split=20; total time=   8.0s\n",
            "[CV] END max_depth=32, max_features=sqrt, min_impurity_decrease=1e-07, min_samples_split=40; total time=   7.4s\n",
            "[CV] END max_depth=32, max_features=sqrt, min_impurity_decrease=1e-07, min_samples_split=40; total time=   7.5s\n",
            "[CV] END max_depth=32, max_features=sqrt, min_impurity_decrease=1e-07, min_samples_split=40; total time=   8.8s\n",
            "[CV] END max_depth=32, max_features=sqrt, min_impurity_decrease=1e-07, min_samples_split=40; total time=  10.2s\n",
            "[CV] END max_depth=32, max_features=sqrt, min_impurity_decrease=1e-07, min_samples_split=40; total time=   7.9s\n",
            "[CV] END max_depth=32, max_features=sqrt, min_impurity_decrease=1e-06, min_samples_split=2; total time=  12.7s\n",
            "[CV] END max_depth=32, max_features=sqrt, min_impurity_decrease=1e-06, min_samples_split=2; total time=  11.9s\n",
            "[CV] END max_depth=32, max_features=sqrt, min_impurity_decrease=1e-06, min_samples_split=2; total time=  11.6s\n",
            "[CV] END max_depth=32, max_features=sqrt, min_impurity_decrease=1e-06, min_samples_split=2; total time=  11.7s\n",
            "[CV] END max_depth=32, max_features=sqrt, min_impurity_decrease=1e-06, min_samples_split=2; total time=  11.8s\n",
            "[CV] END max_depth=32, max_features=sqrt, min_impurity_decrease=1e-06, min_samples_split=20; total time=   8.0s\n",
            "[CV] END max_depth=32, max_features=sqrt, min_impurity_decrease=1e-06, min_samples_split=20; total time=   7.9s\n",
            "[CV] END max_depth=32, max_features=sqrt, min_impurity_decrease=1e-06, min_samples_split=20; total time=   7.9s\n",
            "[CV] END max_depth=32, max_features=sqrt, min_impurity_decrease=1e-06, min_samples_split=20; total time=   8.0s\n",
            "[CV] END max_depth=32, max_features=sqrt, min_impurity_decrease=1e-06, min_samples_split=20; total time=   8.0s\n",
            "[CV] END max_depth=32, max_features=sqrt, min_impurity_decrease=1e-06, min_samples_split=40; total time=   7.2s\n",
            "[CV] END max_depth=32, max_features=sqrt, min_impurity_decrease=1e-06, min_samples_split=40; total time=   7.8s\n",
            "[CV] END max_depth=32, max_features=sqrt, min_impurity_decrease=1e-06, min_samples_split=40; total time=   7.3s\n",
            "[CV] END max_depth=32, max_features=sqrt, min_impurity_decrease=1e-06, min_samples_split=40; total time=   7.2s\n",
            "[CV] END max_depth=32, max_features=sqrt, min_impurity_decrease=1e-06, min_samples_split=40; total time=   7.2s\n",
            "[CV] END max_depth=32, max_features=sqrt, min_impurity_decrease=1e-05, min_samples_split=2; total time=  10.7s\n",
            "[CV] END max_depth=32, max_features=sqrt, min_impurity_decrease=1e-05, min_samples_split=2; total time=  10.8s\n",
            "[CV] END max_depth=32, max_features=sqrt, min_impurity_decrease=1e-05, min_samples_split=2; total time=  10.7s\n",
            "[CV] END max_depth=32, max_features=sqrt, min_impurity_decrease=1e-05, min_samples_split=2; total time=  10.7s\n",
            "[CV] END max_depth=32, max_features=sqrt, min_impurity_decrease=1e-05, min_samples_split=2; total time=  10.8s\n",
            "[CV] END max_depth=32, max_features=sqrt, min_impurity_decrease=1e-05, min_samples_split=20; total time=   7.9s\n",
            "[CV] END max_depth=32, max_features=sqrt, min_impurity_decrease=1e-05, min_samples_split=20; total time=   7.8s\n",
            "[CV] END max_depth=32, max_features=sqrt, min_impurity_decrease=1e-05, min_samples_split=20; total time=   7.9s\n",
            "[CV] END max_depth=32, max_features=sqrt, min_impurity_decrease=1e-05, min_samples_split=20; total time=   7.9s\n",
            "[CV] END max_depth=32, max_features=sqrt, min_impurity_decrease=1e-05, min_samples_split=20; total time=   7.9s\n",
            "[CV] END max_depth=32, max_features=sqrt, min_impurity_decrease=1e-05, min_samples_split=40; total time=   7.2s\n",
            "[CV] END max_depth=32, max_features=sqrt, min_impurity_decrease=1e-05, min_samples_split=40; total time=   7.5s\n",
            "[CV] END max_depth=32, max_features=sqrt, min_impurity_decrease=1e-05, min_samples_split=40; total time=   8.4s\n",
            "[CV] END max_depth=32, max_features=sqrt, min_impurity_decrease=1e-05, min_samples_split=40; total time=   7.2s\n",
            "[CV] END max_depth=32, max_features=sqrt, min_impurity_decrease=1e-05, min_samples_split=40; total time=   7.4s\n",
            "[CV] END max_depth=36, max_features=auto, min_impurity_decrease=1e-07, min_samples_split=2; total time=  28.2s\n",
            "[CV] END max_depth=36, max_features=auto, min_impurity_decrease=1e-07, min_samples_split=2; total time=  29.8s\n",
            "[CV] END max_depth=36, max_features=auto, min_impurity_decrease=1e-07, min_samples_split=2; total time=  29.1s\n",
            "[CV] END max_depth=36, max_features=auto, min_impurity_decrease=1e-07, min_samples_split=2; total time=  28.4s\n",
            "[CV] END max_depth=36, max_features=auto, min_impurity_decrease=1e-07, min_samples_split=2; total time=  28.8s\n",
            "[CV] END max_depth=36, max_features=auto, min_impurity_decrease=1e-07, min_samples_split=20; total time=  21.9s\n",
            "[CV] END max_depth=36, max_features=auto, min_impurity_decrease=1e-07, min_samples_split=20; total time=  22.3s\n",
            "[CV] END max_depth=36, max_features=auto, min_impurity_decrease=1e-07, min_samples_split=20; total time=  22.0s\n",
            "[CV] END max_depth=36, max_features=auto, min_impurity_decrease=1e-07, min_samples_split=20; total time=  22.0s\n",
            "[CV] END max_depth=36, max_features=auto, min_impurity_decrease=1e-07, min_samples_split=20; total time=  22.3s\n",
            "[CV] END max_depth=36, max_features=auto, min_impurity_decrease=1e-07, min_samples_split=40; total time=  20.1s\n",
            "[CV] END max_depth=36, max_features=auto, min_impurity_decrease=1e-07, min_samples_split=40; total time=  20.1s\n",
            "[CV] END max_depth=36, max_features=auto, min_impurity_decrease=1e-07, min_samples_split=40; total time=  20.4s\n",
            "[CV] END max_depth=36, max_features=auto, min_impurity_decrease=1e-07, min_samples_split=40; total time=  20.3s\n",
            "[CV] END max_depth=36, max_features=auto, min_impurity_decrease=1e-07, min_samples_split=40; total time=  20.2s\n",
            "[CV] END max_depth=36, max_features=auto, min_impurity_decrease=1e-06, min_samples_split=2; total time=  28.5s\n",
            "[CV] END max_depth=36, max_features=auto, min_impurity_decrease=1e-06, min_samples_split=2; total time=  28.5s\n",
            "[CV] END max_depth=36, max_features=auto, min_impurity_decrease=1e-06, min_samples_split=2; total time=  28.7s\n",
            "[CV] END max_depth=36, max_features=auto, min_impurity_decrease=1e-06, min_samples_split=2; total time=  28.4s\n",
            "[CV] END max_depth=36, max_features=auto, min_impurity_decrease=1e-06, min_samples_split=2; total time=  28.4s\n",
            "[CV] END max_depth=36, max_features=auto, min_impurity_decrease=1e-06, min_samples_split=20; total time=  21.9s\n",
            "[CV] END max_depth=36, max_features=auto, min_impurity_decrease=1e-06, min_samples_split=20; total time=  22.0s\n",
            "[CV] END max_depth=36, max_features=auto, min_impurity_decrease=1e-06, min_samples_split=20; total time=  22.0s\n",
            "[CV] END max_depth=36, max_features=auto, min_impurity_decrease=1e-06, min_samples_split=20; total time=  21.8s\n",
            "[CV] END max_depth=36, max_features=auto, min_impurity_decrease=1e-06, min_samples_split=20; total time=  21.9s\n",
            "[CV] END max_depth=36, max_features=auto, min_impurity_decrease=1e-06, min_samples_split=40; total time=  20.2s\n",
            "[CV] END max_depth=36, max_features=auto, min_impurity_decrease=1e-06, min_samples_split=40; total time=  20.0s\n",
            "[CV] END max_depth=36, max_features=auto, min_impurity_decrease=1e-06, min_samples_split=40; total time=  20.2s\n",
            "[CV] END max_depth=36, max_features=auto, min_impurity_decrease=1e-06, min_samples_split=40; total time=  20.1s\n",
            "[CV] END max_depth=36, max_features=auto, min_impurity_decrease=1e-06, min_samples_split=40; total time=  20.0s\n",
            "[CV] END max_depth=36, max_features=auto, min_impurity_decrease=1e-05, min_samples_split=2; total time=  27.3s\n",
            "[CV] END max_depth=36, max_features=auto, min_impurity_decrease=1e-05, min_samples_split=2; total time=  27.5s\n",
            "[CV] END max_depth=36, max_features=auto, min_impurity_decrease=1e-05, min_samples_split=2; total time=  27.5s\n",
            "[CV] END max_depth=36, max_features=auto, min_impurity_decrease=1e-05, min_samples_split=2; total time=  27.4s\n",
            "[CV] END max_depth=36, max_features=auto, min_impurity_decrease=1e-05, min_samples_split=2; total time=  27.4s\n",
            "[CV] END max_depth=36, max_features=auto, min_impurity_decrease=1e-05, min_samples_split=20; total time=  21.6s\n",
            "[CV] END max_depth=36, max_features=auto, min_impurity_decrease=1e-05, min_samples_split=20; total time=  21.7s\n",
            "[CV] END max_depth=36, max_features=auto, min_impurity_decrease=1e-05, min_samples_split=20; total time=  21.7s\n",
            "[CV] END max_depth=36, max_features=auto, min_impurity_decrease=1e-05, min_samples_split=20; total time=  21.9s\n",
            "[CV] END max_depth=36, max_features=auto, min_impurity_decrease=1e-05, min_samples_split=20; total time=  21.9s\n",
            "[CV] END max_depth=36, max_features=auto, min_impurity_decrease=1e-05, min_samples_split=40; total time=  20.2s\n",
            "[CV] END max_depth=36, max_features=auto, min_impurity_decrease=1e-05, min_samples_split=40; total time=  20.2s\n",
            "[CV] END max_depth=36, max_features=auto, min_impurity_decrease=1e-05, min_samples_split=40; total time=  20.3s\n",
            "[CV] END max_depth=36, max_features=auto, min_impurity_decrease=1e-05, min_samples_split=40; total time=  20.2s\n",
            "[CV] END max_depth=36, max_features=auto, min_impurity_decrease=1e-05, min_samples_split=40; total time=  20.4s\n",
            "[CV] END max_depth=36, max_features=sqrt, min_impurity_decrease=1e-07, min_samples_split=2; total time=  12.1s\n",
            "[CV] END max_depth=36, max_features=sqrt, min_impurity_decrease=1e-07, min_samples_split=2; total time=  12.1s\n",
            "[CV] END max_depth=36, max_features=sqrt, min_impurity_decrease=1e-07, min_samples_split=2; total time=  12.0s\n",
            "[CV] END max_depth=36, max_features=sqrt, min_impurity_decrease=1e-07, min_samples_split=2; total time=  12.0s\n",
            "[CV] END max_depth=36, max_features=sqrt, min_impurity_decrease=1e-07, min_samples_split=2; total time=  11.9s\n",
            "[CV] END max_depth=36, max_features=sqrt, min_impurity_decrease=1e-07, min_samples_split=20; total time=   8.0s\n",
            "[CV] END max_depth=36, max_features=sqrt, min_impurity_decrease=1e-07, min_samples_split=20; total time=   8.1s\n",
            "[CV] END max_depth=36, max_features=sqrt, min_impurity_decrease=1e-07, min_samples_split=20; total time=   8.2s\n",
            "[CV] END max_depth=36, max_features=sqrt, min_impurity_decrease=1e-07, min_samples_split=20; total time=   8.1s\n",
            "[CV] END max_depth=36, max_features=sqrt, min_impurity_decrease=1e-07, min_samples_split=20; total time=   8.2s\n",
            "[CV] END max_depth=36, max_features=sqrt, min_impurity_decrease=1e-07, min_samples_split=40; total time=   7.3s\n",
            "[CV] END max_depth=36, max_features=sqrt, min_impurity_decrease=1e-07, min_samples_split=40; total time=   7.5s\n",
            "[CV] END max_depth=36, max_features=sqrt, min_impurity_decrease=1e-07, min_samples_split=40; total time=   7.5s\n",
            "[CV] END max_depth=36, max_features=sqrt, min_impurity_decrease=1e-07, min_samples_split=40; total time=   7.5s\n",
            "[CV] END max_depth=36, max_features=sqrt, min_impurity_decrease=1e-07, min_samples_split=40; total time=   7.4s\n",
            "[CV] END max_depth=36, max_features=sqrt, min_impurity_decrease=1e-06, min_samples_split=2; total time=  11.9s\n",
            "[CV] END max_depth=36, max_features=sqrt, min_impurity_decrease=1e-06, min_samples_split=2; total time=  12.0s\n",
            "[CV] END max_depth=36, max_features=sqrt, min_impurity_decrease=1e-06, min_samples_split=2; total time=  11.8s\n",
            "[CV] END max_depth=36, max_features=sqrt, min_impurity_decrease=1e-06, min_samples_split=2; total time=  12.0s\n",
            "[CV] END max_depth=36, max_features=sqrt, min_impurity_decrease=1e-06, min_samples_split=2; total time=  12.1s\n",
            "[CV] END max_depth=36, max_features=sqrt, min_impurity_decrease=1e-06, min_samples_split=20; total time=   8.2s\n",
            "[CV] END max_depth=36, max_features=sqrt, min_impurity_decrease=1e-06, min_samples_split=20; total time=   8.1s\n",
            "[CV] END max_depth=36, max_features=sqrt, min_impurity_decrease=1e-06, min_samples_split=20; total time=   8.1s\n",
            "[CV] END max_depth=36, max_features=sqrt, min_impurity_decrease=1e-06, min_samples_split=20; total time=   8.1s\n",
            "[CV] END max_depth=36, max_features=sqrt, min_impurity_decrease=1e-06, min_samples_split=20; total time=   8.0s\n",
            "[CV] END max_depth=36, max_features=sqrt, min_impurity_decrease=1e-06, min_samples_split=40; total time=   7.2s\n",
            "[CV] END max_depth=36, max_features=sqrt, min_impurity_decrease=1e-06, min_samples_split=40; total time=   7.3s\n",
            "[CV] END max_depth=36, max_features=sqrt, min_impurity_decrease=1e-06, min_samples_split=40; total time=   7.2s\n",
            "[CV] END max_depth=36, max_features=sqrt, min_impurity_decrease=1e-06, min_samples_split=40; total time=   7.2s\n",
            "[CV] END max_depth=36, max_features=sqrt, min_impurity_decrease=1e-06, min_samples_split=40; total time=   7.3s\n",
            "[CV] END max_depth=36, max_features=sqrt, min_impurity_decrease=1e-05, min_samples_split=2; total time=  10.7s\n",
            "[CV] END max_depth=36, max_features=sqrt, min_impurity_decrease=1e-05, min_samples_split=2; total time=  10.7s\n",
            "[CV] END max_depth=36, max_features=sqrt, min_impurity_decrease=1e-05, min_samples_split=2; total time=  10.8s\n",
            "[CV] END max_depth=36, max_features=sqrt, min_impurity_decrease=1e-05, min_samples_split=2; total time=  10.6s\n",
            "[CV] END max_depth=36, max_features=sqrt, min_impurity_decrease=1e-05, min_samples_split=2; total time=  10.7s\n",
            "[CV] END max_depth=36, max_features=sqrt, min_impurity_decrease=1e-05, min_samples_split=20; total time=   7.9s\n",
            "[CV] END max_depth=36, max_features=sqrt, min_impurity_decrease=1e-05, min_samples_split=20; total time=   7.8s\n",
            "[CV] END max_depth=36, max_features=sqrt, min_impurity_decrease=1e-05, min_samples_split=20; total time=   7.9s\n",
            "[CV] END max_depth=36, max_features=sqrt, min_impurity_decrease=1e-05, min_samples_split=20; total time=   7.9s\n",
            "[CV] END max_depth=36, max_features=sqrt, min_impurity_decrease=1e-05, min_samples_split=20; total time=   7.9s\n",
            "[CV] END max_depth=36, max_features=sqrt, min_impurity_decrease=1e-05, min_samples_split=40; total time=   7.2s\n",
            "[CV] END max_depth=36, max_features=sqrt, min_impurity_decrease=1e-05, min_samples_split=40; total time=   7.2s\n",
            "[CV] END max_depth=36, max_features=sqrt, min_impurity_decrease=1e-05, min_samples_split=40; total time=   7.1s\n",
            "[CV] END max_depth=36, max_features=sqrt, min_impurity_decrease=1e-05, min_samples_split=40; total time=   7.1s\n",
            "[CV] END max_depth=36, max_features=sqrt, min_impurity_decrease=1e-05, min_samples_split=40; total time=   7.2s\n",
            "[CV] END max_depth=40, max_features=auto, min_impurity_decrease=1e-07, min_samples_split=2; total time=  28.0s\n",
            "[CV] END max_depth=40, max_features=auto, min_impurity_decrease=1e-07, min_samples_split=2; total time=  28.0s\n",
            "[CV] END max_depth=40, max_features=auto, min_impurity_decrease=1e-07, min_samples_split=2; total time=  28.1s\n",
            "[CV] END max_depth=40, max_features=auto, min_impurity_decrease=1e-07, min_samples_split=2; total time=  28.0s\n",
            "[CV] END max_depth=40, max_features=auto, min_impurity_decrease=1e-07, min_samples_split=2; total time=  28.1s\n",
            "[CV] END max_depth=40, max_features=auto, min_impurity_decrease=1e-07, min_samples_split=20; total time=  21.6s\n",
            "[CV] END max_depth=40, max_features=auto, min_impurity_decrease=1e-07, min_samples_split=20; total time=  21.7s\n",
            "[CV] END max_depth=40, max_features=auto, min_impurity_decrease=1e-07, min_samples_split=20; total time=  21.9s\n",
            "[CV] END max_depth=40, max_features=auto, min_impurity_decrease=1e-07, min_samples_split=20; total time=  21.8s\n",
            "[CV] END max_depth=40, max_features=auto, min_impurity_decrease=1e-07, min_samples_split=20; total time=  22.1s\n",
            "[CV] END max_depth=40, max_features=auto, min_impurity_decrease=1e-07, min_samples_split=40; total time=  20.1s\n",
            "[CV] END max_depth=40, max_features=auto, min_impurity_decrease=1e-07, min_samples_split=40; total time=  20.2s\n",
            "[CV] END max_depth=40, max_features=auto, min_impurity_decrease=1e-07, min_samples_split=40; total time=  20.2s\n",
            "[CV] END max_depth=40, max_features=auto, min_impurity_decrease=1e-07, min_samples_split=40; total time=  20.2s\n",
            "[CV] END max_depth=40, max_features=auto, min_impurity_decrease=1e-07, min_samples_split=40; total time=  20.3s\n",
            "[CV] END max_depth=40, max_features=auto, min_impurity_decrease=1e-06, min_samples_split=2; total time=  28.9s\n",
            "[CV] END max_depth=40, max_features=auto, min_impurity_decrease=1e-06, min_samples_split=2; total time=  29.1s\n",
            "[CV] END max_depth=40, max_features=auto, min_impurity_decrease=1e-06, min_samples_split=2; total time=  29.2s\n",
            "[CV] END max_depth=40, max_features=auto, min_impurity_decrease=1e-06, min_samples_split=2; total time=  28.7s\n",
            "[CV] END max_depth=40, max_features=auto, min_impurity_decrease=1e-06, min_samples_split=2; total time=  28.9s\n",
            "[CV] END max_depth=40, max_features=auto, min_impurity_decrease=1e-06, min_samples_split=20; total time=  22.4s\n",
            "[CV] END max_depth=40, max_features=auto, min_impurity_decrease=1e-06, min_samples_split=20; total time=  22.4s\n",
            "[CV] END max_depth=40, max_features=auto, min_impurity_decrease=1e-06, min_samples_split=20; total time=  22.8s\n",
            "[CV] END max_depth=40, max_features=auto, min_impurity_decrease=1e-06, min_samples_split=20; total time=  22.3s\n",
            "[CV] END max_depth=40, max_features=auto, min_impurity_decrease=1e-06, min_samples_split=20; total time=  22.4s\n",
            "[CV] END max_depth=40, max_features=auto, min_impurity_decrease=1e-06, min_samples_split=40; total time=  20.6s\n",
            "[CV] END max_depth=40, max_features=auto, min_impurity_decrease=1e-06, min_samples_split=40; total time=  20.5s\n",
            "[CV] END max_depth=40, max_features=auto, min_impurity_decrease=1e-06, min_samples_split=40; total time=  20.2s\n",
            "[CV] END max_depth=40, max_features=auto, min_impurity_decrease=1e-06, min_samples_split=40; total time=  20.3s\n",
            "[CV] END max_depth=40, max_features=auto, min_impurity_decrease=1e-06, min_samples_split=40; total time=  20.3s\n",
            "[CV] END max_depth=40, max_features=auto, min_impurity_decrease=1e-05, min_samples_split=2; total time=  27.7s\n",
            "[CV] END max_depth=40, max_features=auto, min_impurity_decrease=1e-05, min_samples_split=2; total time=  27.5s\n",
            "[CV] END max_depth=40, max_features=auto, min_impurity_decrease=1e-05, min_samples_split=2; total time=  27.4s\n",
            "[CV] END max_depth=40, max_features=auto, min_impurity_decrease=1e-05, min_samples_split=2; total time=  27.5s\n",
            "[CV] END max_depth=40, max_features=auto, min_impurity_decrease=1e-05, min_samples_split=2; total time=  27.6s\n",
            "[CV] END max_depth=40, max_features=auto, min_impurity_decrease=1e-05, min_samples_split=20; total time=  21.6s\n",
            "[CV] END max_depth=40, max_features=auto, min_impurity_decrease=1e-05, min_samples_split=20; total time=  21.7s\n",
            "[CV] END max_depth=40, max_features=auto, min_impurity_decrease=1e-05, min_samples_split=20; total time=  21.7s\n",
            "[CV] END max_depth=40, max_features=auto, min_impurity_decrease=1e-05, min_samples_split=20; total time=  21.6s\n",
            "[CV] END max_depth=40, max_features=auto, min_impurity_decrease=1e-05, min_samples_split=20; total time=  21.7s\n",
            "[CV] END max_depth=40, max_features=auto, min_impurity_decrease=1e-05, min_samples_split=40; total time=  19.9s\n",
            "[CV] END max_depth=40, max_features=auto, min_impurity_decrease=1e-05, min_samples_split=40; total time=  19.9s\n",
            "[CV] END max_depth=40, max_features=auto, min_impurity_decrease=1e-05, min_samples_split=40; total time=  19.9s\n",
            "[CV] END max_depth=40, max_features=auto, min_impurity_decrease=1e-05, min_samples_split=40; total time=  19.9s\n",
            "[CV] END max_depth=40, max_features=auto, min_impurity_decrease=1e-05, min_samples_split=40; total time=  20.0s\n",
            "[CV] END max_depth=40, max_features=sqrt, min_impurity_decrease=1e-07, min_samples_split=2; total time=  11.8s\n",
            "[CV] END max_depth=40, max_features=sqrt, min_impurity_decrease=1e-07, min_samples_split=2; total time=  11.9s\n",
            "[CV] END max_depth=40, max_features=sqrt, min_impurity_decrease=1e-07, min_samples_split=2; total time=  11.8s\n",
            "[CV] END max_depth=40, max_features=sqrt, min_impurity_decrease=1e-07, min_samples_split=2; total time=  11.8s\n",
            "[CV] END max_depth=40, max_features=sqrt, min_impurity_decrease=1e-07, min_samples_split=2; total time=  11.7s\n",
            "[CV] END max_depth=40, max_features=sqrt, min_impurity_decrease=1e-07, min_samples_split=20; total time=   7.9s\n",
            "[CV] END max_depth=40, max_features=sqrt, min_impurity_decrease=1e-07, min_samples_split=20; total time=   7.8s\n",
            "[CV] END max_depth=40, max_features=sqrt, min_impurity_decrease=1e-07, min_samples_split=20; total time=   8.0s\n",
            "[CV] END max_depth=40, max_features=sqrt, min_impurity_decrease=1e-07, min_samples_split=20; total time=   8.0s\n",
            "[CV] END max_depth=40, max_features=sqrt, min_impurity_decrease=1e-07, min_samples_split=20; total time=   8.0s\n",
            "[CV] END max_depth=40, max_features=sqrt, min_impurity_decrease=1e-07, min_samples_split=40; total time=   7.2s\n",
            "[CV] END max_depth=40, max_features=sqrt, min_impurity_decrease=1e-07, min_samples_split=40; total time=   7.3s\n",
            "[CV] END max_depth=40, max_features=sqrt, min_impurity_decrease=1e-07, min_samples_split=40; total time=   7.2s\n",
            "[CV] END max_depth=40, max_features=sqrt, min_impurity_decrease=1e-07, min_samples_split=40; total time=   7.2s\n",
            "[CV] END max_depth=40, max_features=sqrt, min_impurity_decrease=1e-07, min_samples_split=40; total time=   7.2s\n",
            "[CV] END max_depth=40, max_features=sqrt, min_impurity_decrease=1e-06, min_samples_split=2; total time=  11.7s\n",
            "[CV] END max_depth=40, max_features=sqrt, min_impurity_decrease=1e-06, min_samples_split=2; total time=  11.8s\n",
            "[CV] END max_depth=40, max_features=sqrt, min_impurity_decrease=1e-06, min_samples_split=2; total time=  11.8s\n",
            "[CV] END max_depth=40, max_features=sqrt, min_impurity_decrease=1e-06, min_samples_split=2; total time=  11.8s\n",
            "[CV] END max_depth=40, max_features=sqrt, min_impurity_decrease=1e-06, min_samples_split=2; total time=  11.9s\n",
            "[CV] END max_depth=40, max_features=sqrt, min_impurity_decrease=1e-06, min_samples_split=20; total time=   8.2s\n",
            "[CV] END max_depth=40, max_features=sqrt, min_impurity_decrease=1e-06, min_samples_split=20; total time=   8.2s\n",
            "[CV] END max_depth=40, max_features=sqrt, min_impurity_decrease=1e-06, min_samples_split=20; total time=   8.1s\n",
            "[CV] END max_depth=40, max_features=sqrt, min_impurity_decrease=1e-06, min_samples_split=20; total time=   8.2s\n",
            "[CV] END max_depth=40, max_features=sqrt, min_impurity_decrease=1e-06, min_samples_split=20; total time=   8.2s\n",
            "[CV] END max_depth=40, max_features=sqrt, min_impurity_decrease=1e-06, min_samples_split=40; total time=   7.5s\n",
            "[CV] END max_depth=40, max_features=sqrt, min_impurity_decrease=1e-06, min_samples_split=40; total time=   7.4s\n",
            "[CV] END max_depth=40, max_features=sqrt, min_impurity_decrease=1e-06, min_samples_split=40; total time=   7.3s\n",
            "[CV] END max_depth=40, max_features=sqrt, min_impurity_decrease=1e-06, min_samples_split=40; total time=   7.5s\n",
            "[CV] END max_depth=40, max_features=sqrt, min_impurity_decrease=1e-06, min_samples_split=40; total time=   7.7s\n",
            "[CV] END max_depth=40, max_features=sqrt, min_impurity_decrease=1e-05, min_samples_split=2; total time=  11.1s\n",
            "[CV] END max_depth=40, max_features=sqrt, min_impurity_decrease=1e-05, min_samples_split=2; total time=  11.2s\n",
            "[CV] END max_depth=40, max_features=sqrt, min_impurity_decrease=1e-05, min_samples_split=2; total time=  11.4s\n",
            "[CV] END max_depth=40, max_features=sqrt, min_impurity_decrease=1e-05, min_samples_split=2; total time=  11.0s\n",
            "[CV] END max_depth=40, max_features=sqrt, min_impurity_decrease=1e-05, min_samples_split=2; total time=  11.0s\n",
            "[CV] END max_depth=40, max_features=sqrt, min_impurity_decrease=1e-05, min_samples_split=20; total time=   8.2s\n",
            "[CV] END max_depth=40, max_features=sqrt, min_impurity_decrease=1e-05, min_samples_split=20; total time=   8.1s\n",
            "[CV] END max_depth=40, max_features=sqrt, min_impurity_decrease=1e-05, min_samples_split=20; total time=   8.1s\n",
            "[CV] END max_depth=40, max_features=sqrt, min_impurity_decrease=1e-05, min_samples_split=20; total time=   8.1s\n",
            "[CV] END max_depth=40, max_features=sqrt, min_impurity_decrease=1e-05, min_samples_split=20; total time=   8.0s\n",
            "[CV] END max_depth=40, max_features=sqrt, min_impurity_decrease=1e-05, min_samples_split=40; total time=   7.3s\n",
            "[CV] END max_depth=40, max_features=sqrt, min_impurity_decrease=1e-05, min_samples_split=40; total time=   7.6s\n",
            "[CV] END max_depth=40, max_features=sqrt, min_impurity_decrease=1e-05, min_samples_split=40; total time=   7.6s\n",
            "[CV] END max_depth=40, max_features=sqrt, min_impurity_decrease=1e-05, min_samples_split=40; total time=   7.5s\n",
            "[CV] END max_depth=40, max_features=sqrt, min_impurity_decrease=1e-05, min_samples_split=40; total time=   7.6s\n"
          ]
        },
        {
          "data": {
            "text/plain": [
              "(0.949041069606128, 0.6756212950879839)"
            ]
          },
          "execution_count": 15,
          "metadata": {},
          "output_type": "execute_result"
        }
      ],
      "source": [
        "from sklearn.model_selection import GridSearchCV\n",
        "parameters = {\n",
        "    'max_depth': [24, 28, 32, 36, 40],\n",
        "    'max_features': ['auto', 'sqrt'],\n",
        "    'min_impurity_decrease': [0.0000001, 0.000001, 0.00001],\n",
        "    'min_samples_split': [2, 20, 40],\n",
        "}\n",
        "regr = RandomForestRegressor(criterion='squared_error', random_state=0)\n",
        "regr = GridSearchCV(regr, parameters, verbose=2)\n",
        "regr.fit(X_train, y_train)\n",
        "regr.score(X_train, y_train), regr.score(X_test, y_test)\n"
      ]
    },
    {
      "cell_type": "code",
      "execution_count": 19,
      "metadata": {
        "colab": {
          "base_uri": "https://localhost:8080/"
        },
        "id": "_3neu0zXuXCm",
        "outputId": "a44e1812-12b6-42bd-866f-05fc3db7bb77"
      },
      "outputs": [
        {
          "data": {
            "text/plain": [
              "{'max_depth': 28,\n",
              " 'max_features': 'auto',\n",
              " 'min_impurity_decrease': 1e-05,\n",
              " 'min_samples_split': 2}"
            ]
          },
          "execution_count": 19,
          "metadata": {},
          "output_type": "execute_result"
        }
      ],
      "source": [
        "regr.best_params_['max_depth']\n",
        "regr.best_params_['min_impurity_decrease']\n"
      ]
    },
    {
      "cell_type": "code",
      "execution_count": 20,
      "metadata": {
        "colab": {
          "base_uri": "https://localhost:8080/"
        },
        "id": "TQT-0UnzybmN",
        "outputId": "ccca88af-eaa3-4ced-868e-cd5d9b675f42"
      },
      "outputs": [
        {
          "data": {
            "text/plain": [
              "0.6922354614250437"
            ]
          },
          "execution_count": 20,
          "metadata": {},
          "output_type": "execute_result"
        }
      ],
      "source": [
        "regr = RandomForestRegressor(min_impurity_decrease=regr.best_params_['min_impurity_decrease'],\n",
        "                             max_depth=regr.best_params_['max_depth'],\n",
        "                             max_features=regr.best_params_['max_features'],\n",
        "                             oob_score=True,\n",
        "                             n_estimators=500,\n",
        "                             criterion='squared_error',\n",
        "                             random_state=0)\n",
        "regr.fit(X, y)\n",
        "regr.oob_score_\n"
      ]
    },
    {
      "cell_type": "code",
      "execution_count": null,
      "metadata": {
        "id": "ZXFG_KvQompk"
      },
      "outputs": [],
      "source": []
    }
  ],
  "metadata": {
    "colab": {
      "machine_shape": "hm",
      "name": "RF.ipynb",
      "provenance": []
    },
    "interpreter": {
      "hash": "ecf5722fdaf1897a315d257d89d94520bfcaa453217d5becf09b39e73618b0de"
    },
    "kernelspec": {
      "display_name": "Python 3.9.5 ('base')",
      "language": "python",
      "name": "python3"
    },
    "language_info": {
      "codemirror_mode": {
        "name": "ipython",
        "version": 3
      },
      "file_extension": ".py",
      "mimetype": "text/x-python",
      "name": "python",
      "nbconvert_exporter": "python",
      "pygments_lexer": "ipython3",
      "version": "3.9.5"
    }
  },
  "nbformat": 4,
  "nbformat_minor": 0
}
