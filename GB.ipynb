{
 "cells": [
  {
   "cell_type": "code",
   "execution_count": 1,
   "metadata": {},
   "outputs": [],
   "source": [
    "from sklearn.model_selection import train_test_split\n",
    "from sklearn.preprocessing import StandardScaler\n",
    "import numpy as np\n",
    "import pandas as pd\n",
    "import matplotlib.pyplot as plt\n",
    "import warnings\n",
    "warnings.filterwarnings('ignore')\n"
   ]
  },
  {
   "cell_type": "code",
   "execution_count": 5,
   "metadata": {},
   "outputs": [],
   "source": [
    "df_ori = pd.read_csv('data/gdf_final.csv').dropna()\n",
    "X_col = [\n",
    "    'dist',\n",
    "    'delta_time',\n",
    "    'trip_hour',\n",
    "    'avgtemp',\n",
    "    '16_earnings',\n",
    "    'median_earnings',\n",
    "    'median_age'\n",
    "]\n",
    "y_col = ['usage_counts']\n",
    "classes = ['low', 'mid', 'high']\n",
    "X = StandardScaler().fit_transform(df_ori[X_col])\n"
   ]
  },
  {
   "cell_type": "code",
   "execution_count": 6,
   "metadata": {},
   "outputs": [
    {
     "data": {
      "text/plain": [
       "(0.7582364449374186, 0.6691779638406311)"
      ]
     },
     "execution_count": 6,
     "metadata": {},
     "output_type": "execute_result"
    }
   ],
   "source": [
    "from sklearn.ensemble import GradientBoostingRegressor\n",
    "y = df_ori[y_col].to_numpy().flatten()\n",
    "X_train, X_test, y_train, y_test = train_test_split(\n",
    "    X, y, test_size=0.2, random_state=42)\n",
    "regr = GradientBoostingRegressor(criterion='squared_error',\n",
    "                                 n_estimators=100, \n",
    "                                 max_features='sqrt', \n",
    "                                 max_depth=10, \n",
    "                                 random_state=0)\n",
    "regr.fit(X_train, y_train)\n",
    "regr.score(X_train, y_train), regr.score(X_test, y_test)\n"
   ]
  },
  {
   "cell_type": "code",
   "execution_count": 13,
   "metadata": {},
   "outputs": [
    {
     "data": {
      "text/plain": [
       "<matplotlib.legend.Legend at 0x1ee8a5ecac0>"
      ]
     },
     "execution_count": 13,
     "metadata": {},
     "output_type": "execute_result"
    },
    {
     "data": {
      "image/png": "[encoded data removed]",
      "text/plain": [
       "<Figure size 432x288 with 1 Axes>"
      ]
     },
     "metadata": {
      "needs_background": "light"
     },
     "output_type": "display_data"
    }
   ],
   "source": [
    "n = 3\n",
    "n_estimators = 500\n",
    "depthList = [i+9 for i in range(n)]\n",
    "train_score_list = np.zeros(n)\n",
    "test_score_list = np.zeros(n)\n",
    "for idx, d in enumerate(depthList):\n",
    "    regr = GradientBoostingRegressor(criterion='squared_error',\n",
    "                                     n_estimators=n_estimators, \n",
    "                                     max_features='sqrt', \n",
    "                                     max_depth=d, \n",
    "                                     random_state=0)\n",
    "    regr.fit(X_train, y_train)\n",
    "    train_score_list[idx] = regr.score(X_train, y_train)\n",
    "    test_score_list[idx] = regr.score(X_test, y_test)\n",
    "plt.plot(list(range(n)), train_score_list, label='train')\n",
    "plt.plot(list(range(n)), test_score_list, label='test')\n",
    "plt.xticks(list(range(n)), depthList)\n",
    "plt.title('R2 Score when estimators = 100')\n",
    "plt.xlabel('max_depth')\n",
    "plt.ylabel('R Square')\n",
    "plt.legend()\n"
   ]
  },
  {
   "cell_type": "markdown",
   "metadata": {},
   "source": [
    "### The best depth is 10"
   ]
  },
  {
   "cell_type": "code",
   "execution_count": 14,
   "metadata": {},
   "outputs": [
    {
     "data": {
      "text/plain": [
       "(0.9075042637546361, 0.7201429279089226)"
      ]
     },
     "execution_count": 14,
     "metadata": {},
     "output_type": "execute_result"
    }
   ],
   "source": [
    "depth = depthList[np.argmax(test_score_list)]\n",
    "regr = GradientBoostingRegressor(max_depth=10, \n",
    "                                 n_estimators=500,\n",
    "                                 criterion='squared_error', \n",
    "                                 max_features='sqrt', \n",
    "                                 random_state=0)\n",
    "regr.fit(X_train, y_train)\n",
    "regr.score(X_train, y_train), regr.score(X_test, y_test)\n"
   ]
  },
  {
   "cell_type": "code",
   "execution_count": null,
   "metadata": {},
   "outputs": [],
   "source": []
  }
 ],
 "metadata": {
  "interpreter": {
   "hash": "ecf5722fdaf1897a315d257d89d94520bfcaa453217d5becf09b39e73618b0de"
  },
  "kernelspec": {
   "display_name": "Python 3.9.5 ('base')",
   "language": "python",
   "name": "python3"
  },
  "language_info": {
   "codemirror_mode": {
    "name": "ipython",
    "version": 3
   },
   "file_extension": ".py",
   "mimetype": "text/x-python",
   "name": "python",
   "nbconvert_exporter": "python",
   "pygments_lexer": "ipython3",
   "version": "3.9.5"
  },
  "orig_nbformat": 4
 },
 "nbformat": 4,
 "nbformat_minor": 2
}
